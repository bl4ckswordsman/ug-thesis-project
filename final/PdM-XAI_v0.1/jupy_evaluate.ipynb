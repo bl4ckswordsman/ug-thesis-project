{
 "cells": [
  {
   "cell_type": "code",
   "id": "initial_id",
   "metadata": {
    "collapsed": true,
    "ExecuteTime": {
     "end_time": "2024-05-10T16:30:38.819390Z",
     "start_time": "2024-05-10T16:30:36.812786Z"
    }
   },
   "source": [
    "import joblib\n",
    "from sklearn.model_selection import KFold\n",
    "from tensorflow.keras.models import load_model\n",
    "\n",
    "model_dir = 'model_data'\n",
    "\n",
    "model_name1 = 'Seq_2Layer_32_64_ReLU_Adam'\n",
    "model_name2 = 'Deep_3Layer_64_128_64_ReLU_Adam'\n",
    "model_name3 = 'Deep_3Layer_128_256_128_ReLU_Adam'\n",
    "model_name4 = 'Simple_1Layer_32_ReLU_Adam'\n",
    "model_name5 = 'Complex_4Layer_128_256_256_128_ReLU_Adam'\n",
    "\n",
    "sel_model = model_name1\n",
    "\n",
    "# Load the model\n",
    "model_path = f'{model_dir}/{sel_model}/model.keras'\n",
    "model = load_model(model_path)\n",
    "\n",
    "# Load the label encoder\n",
    "le_path = f'{model_dir}/{sel_model}/label_encoder.joblib'\n",
    "le = joblib.load(le_path)\n",
    "\n",
    "# Initialize the cross-validator\n",
    "kf = KFold(n_splits=5, shuffle=True, random_state=42)\n",
    "\n",
    "folds = 5"
   ],
   "outputs": [
    {
     "name": "stderr",
     "output_type": "stream",
     "text": [
      "2024-05-10 18:30:37.384646: I external/local_tsl/tsl/cuda/cudart_stub.cc:32] Could not find cuda drivers on your machine, GPU will not be used.\n",
      "2024-05-10 18:30:37.387147: I external/local_tsl/tsl/cuda/cudart_stub.cc:32] Could not find cuda drivers on your machine, GPU will not be used.\n",
      "2024-05-10 18:30:37.425665: I tensorflow/core/platform/cpu_feature_guard.cc:210] This TensorFlow binary is optimized to use available CPU instructions in performance-critical operations.\n",
      "To enable the following instructions: AVX2 FMA, in other operations, rebuild TensorFlow with the appropriate compiler flags.\n",
      "2024-05-10 18:30:38.082400: W tensorflow/compiler/tf2tensorrt/utils/py_utils.cc:38] TF-TRT Warning: Could not find TensorRT\n"
     ]
    }
   ],
   "execution_count": 1
  },
  {
   "metadata": {
    "ExecuteTime": {
     "end_time": "2024-05-10T16:30:42.164376Z",
     "start_time": "2024-05-10T16:30:40.815130Z"
    }
   },
   "cell_type": "code",
   "source": [
    "from preprocessing import load_and_preprocess_data\n",
    "import pandas as pd\n",
    "from plotting import plot_metrics, plot_history, plot_confusion_matrices, plot_model_metrics\n",
    "from evaluation import evaluate_and_append_accuracy\n",
    "\n",
    "# Load and preprocess the data\n",
    "X, y, le = load_and_preprocess_data()\n",
    "\n",
    "# Get the class labels\n",
    "class_labels = le.classes_\n",
    "\n",
    "# Initialize lists to store metrics\n",
    "metrics = []\n",
    "\n",
    "# Directory to store the model data\n",
    "model_dir = 'model_data'\n",
    "\n",
    "\n",
    "# Initialize lists to store importances and standard deviations for each fold\n",
    "all_importances = []\n",
    "all_std = []\n",
    "\n",
    "# Cross-validation\n",
    "for fold, (train_index, test_index) in enumerate(kf.split(X), 1):\n",
    "    # Load the model\n",
    "    model_path = f'{model_dir}/{sel_model}/model.keras'\n",
    "    model = load_model(model_path)\n",
    "\n",
    "    # Load the label encoder\n",
    "    le_path = f'{model_dir}/{sel_model}/label_encoder.joblib'\n",
    "    le = joblib.load(le_path)\n",
    "\n",
    "    # Load the test data\n",
    "    test_data_path = f'{model_dir}/{sel_model}/test_data_fold_{fold}.joblib'\n",
    "    X_test, y_test_categorical = joblib.load(test_data_path)\n",
    "\n",
    "    # Evaluate the model and append the accuracy to the list\n",
    "    evaluate_and_append_accuracy(model, sel_model, X_test, y_test_categorical, metrics, fold)\n"
   ],
   "id": "4d96a710413a073a",
   "outputs": [
    {
     "name": "stdout",
     "output_type": "stream",
     "text": [
      "\u001B[1m63/63\u001B[0m \u001B[32m━━━━━━━━━━━━━━━━━━━━\u001B[0m\u001B[37m\u001B[0m \u001B[1m0s\u001B[0m 979us/step\n",
      "\u001B[1m63/63\u001B[0m \u001B[32m━━━━━━━━━━━━━━━━━━━━\u001B[0m\u001B[37m\u001B[0m \u001B[1m0s\u001B[0m 3ms/step\n",
      "\u001B[1m63/63\u001B[0m \u001B[32m━━━━━━━━━━━━━━━━━━━━\u001B[0m\u001B[37m\u001B[0m \u001B[1m0s\u001B[0m 920us/step\n",
      "\u001B[1m63/63\u001B[0m \u001B[32m━━━━━━━━━━━━━━━━━━━━\u001B[0m\u001B[37m\u001B[0m \u001B[1m0s\u001B[0m 1ms/step\n",
      "\u001B[1m63/63\u001B[0m \u001B[32m━━━━━━━━━━━━━━━━━━━━\u001B[0m\u001B[37m\u001B[0m \u001B[1m0s\u001B[0m 969us/step\n"
     ]
    }
   ],
   "execution_count": 2
  },
  {
   "metadata": {},
   "cell_type": "code",
   "source": [
    "# Load the histories from csv\n",
    "histories = [pd.read_csv(\n",
    "    f'results/{sel_model}/csv/history_fold_{fold}.csv') for fold in range(1, kf.get_n_splits() + 1)]\n",
    "folds = list(range(1, kf.get_n_splits() + 1))\n",
    "\n",
    "# Plot the histories\n",
    "plot_history(histories, folds, sel_model)\n",
    "\n",
    "# Plot the metrics\n",
    "plot_metrics(metrics, sel_model)\n",
    "\n",
    "# Extract confusion matrices from accuracies\n",
    "confusion_matrices = [metrics['confusion_matrix'] for metrics in metrics]\n",
    "\n",
    "# Plot the confusion matrices\n",
    "plot_confusion_matrices(confusion_matrices, sel_model, class_labels)"
   ],
   "id": "d86a29b22b5f8fd1",
   "outputs": [],
   "execution_count": null
  },
  {
   "metadata": {},
   "cell_type": "code",
   "source": [
    "# Plot the comparison of all tested models\n",
    "plot_model_metrics()"
   ],
   "id": "43493daeaa75c674",
   "outputs": [],
   "execution_count": null
  },
  {
   "metadata": {
    "ExecuteTime": {
     "end_time": "2024-05-10T16:56:12.701562Z",
     "start_time": "2024-05-10T16:56:12.569724Z"
    }
   },
   "cell_type": "code",
   "source": [
    "# Architecture Model Visualization\n",
    "from tensorflow.keras.utils import plot_model\n",
    "\n",
    "\n",
    "# Plot the model\n",
    "plot_model(model, to_file=f'results/{sel_model}/model_plot.png', show_shapes=True, show_layer_names=True, show_dtype=True, expand_nested=True, show_layer_activations=True)\n",
    "\n",
    "# Print the model summary\n",
    "# print(model.summary())\n"
   ],
   "id": "c7987c432303aeca",
   "outputs": [
    {
     "data": {
      "text/plain": [
       "\u001B[1mModel: \"sequential_4\"\u001B[0m\n"
      ],
      "text/html": [
       "<pre style=\"white-space:pre;overflow-x:auto;line-height:normal;font-family:Menlo,'DejaVu Sans Mono',consolas,'Courier New',monospace\"><span style=\"font-weight: bold\">Model: \"sequential_4\"</span>\n",
       "</pre>\n"
      ]
     },
     "metadata": {},
     "output_type": "display_data"
    },
    {
     "data": {
      "text/plain": [
       "┏━━━━━━━━━━━━━━━━━━━━━━━━━━━━━━━━━┳━━━━━━━━━━━━━━━━━━━━━━━━┳━━━━━━━━━━━━━━━┓\n",
       "┃\u001B[1m \u001B[0m\u001B[1mLayer (type)                   \u001B[0m\u001B[1m \u001B[0m┃\u001B[1m \u001B[0m\u001B[1mOutput Shape          \u001B[0m\u001B[1m \u001B[0m┃\u001B[1m \u001B[0m\u001B[1m      Param #\u001B[0m\u001B[1m \u001B[0m┃\n",
       "┡━━━━━━━━━━━━━━━━━━━━━━━━━━━━━━━━━╇━━━━━━━━━━━━━━━━━━━━━━━━╇━━━━━━━━━━━━━━━┩\n",
       "│ dense_12 (\u001B[38;5;33mDense\u001B[0m)                │ (\u001B[38;5;45mNone\u001B[0m, \u001B[38;5;34m32\u001B[0m)             │           \u001B[38;5;34m320\u001B[0m │\n",
       "├─────────────────────────────────┼────────────────────────┼───────────────┤\n",
       "│ dense_13 (\u001B[38;5;33mDense\u001B[0m)                │ (\u001B[38;5;45mNone\u001B[0m, \u001B[38;5;34m64\u001B[0m)             │         \u001B[38;5;34m2,112\u001B[0m │\n",
       "├─────────────────────────────────┼────────────────────────┼───────────────┤\n",
       "│ dense_14 (\u001B[38;5;33mDense\u001B[0m)                │ (\u001B[38;5;45mNone\u001B[0m, \u001B[38;5;34m6\u001B[0m)              │           \u001B[38;5;34m390\u001B[0m │\n",
       "└─────────────────────────────────┴────────────────────────┴───────────────┘\n"
      ],
      "text/html": [
       "<pre style=\"white-space:pre;overflow-x:auto;line-height:normal;font-family:Menlo,'DejaVu Sans Mono',consolas,'Courier New',monospace\">┏━━━━━━━━━━━━━━━━━━━━━━━━━━━━━━━━━┳━━━━━━━━━━━━━━━━━━━━━━━━┳━━━━━━━━━━━━━━━┓\n",
       "┃<span style=\"font-weight: bold\"> Layer (type)                    </span>┃<span style=\"font-weight: bold\"> Output Shape           </span>┃<span style=\"font-weight: bold\">       Param # </span>┃\n",
       "┡━━━━━━━━━━━━━━━━━━━━━━━━━━━━━━━━━╇━━━━━━━━━━━━━━━━━━━━━━━━╇━━━━━━━━━━━━━━━┩\n",
       "│ dense_12 (<span style=\"color: #0087ff; text-decoration-color: #0087ff\">Dense</span>)                │ (<span style=\"color: #00d7ff; text-decoration-color: #00d7ff\">None</span>, <span style=\"color: #00af00; text-decoration-color: #00af00\">32</span>)             │           <span style=\"color: #00af00; text-decoration-color: #00af00\">320</span> │\n",
       "├─────────────────────────────────┼────────────────────────┼───────────────┤\n",
       "│ dense_13 (<span style=\"color: #0087ff; text-decoration-color: #0087ff\">Dense</span>)                │ (<span style=\"color: #00d7ff; text-decoration-color: #00d7ff\">None</span>, <span style=\"color: #00af00; text-decoration-color: #00af00\">64</span>)             │         <span style=\"color: #00af00; text-decoration-color: #00af00\">2,112</span> │\n",
       "├─────────────────────────────────┼────────────────────────┼───────────────┤\n",
       "│ dense_14 (<span style=\"color: #0087ff; text-decoration-color: #0087ff\">Dense</span>)                │ (<span style=\"color: #00d7ff; text-decoration-color: #00d7ff\">None</span>, <span style=\"color: #00af00; text-decoration-color: #00af00\">6</span>)              │           <span style=\"color: #00af00; text-decoration-color: #00af00\">390</span> │\n",
       "└─────────────────────────────────┴────────────────────────┴───────────────┘\n",
       "</pre>\n"
      ]
     },
     "metadata": {},
     "output_type": "display_data"
    },
    {
     "data": {
      "text/plain": [
       "\u001B[1m Total params: \u001B[0m\u001B[38;5;34m8,468\u001B[0m (33.08 KB)\n"
      ],
      "text/html": [
       "<pre style=\"white-space:pre;overflow-x:auto;line-height:normal;font-family:Menlo,'DejaVu Sans Mono',consolas,'Courier New',monospace\"><span style=\"font-weight: bold\"> Total params: </span><span style=\"color: #00af00; text-decoration-color: #00af00\">8,468</span> (33.08 KB)\n",
       "</pre>\n"
      ]
     },
     "metadata": {},
     "output_type": "display_data"
    },
    {
     "data": {
      "text/plain": [
       "\u001B[1m Trainable params: \u001B[0m\u001B[38;5;34m2,822\u001B[0m (11.02 KB)\n"
      ],
      "text/html": [
       "<pre style=\"white-space:pre;overflow-x:auto;line-height:normal;font-family:Menlo,'DejaVu Sans Mono',consolas,'Courier New',monospace\"><span style=\"font-weight: bold\"> Trainable params: </span><span style=\"color: #00af00; text-decoration-color: #00af00\">2,822</span> (11.02 KB)\n",
       "</pre>\n"
      ]
     },
     "metadata": {},
     "output_type": "display_data"
    },
    {
     "data": {
      "text/plain": [
       "\u001B[1m Non-trainable params: \u001B[0m\u001B[38;5;34m0\u001B[0m (0.00 B)\n"
      ],
      "text/html": [
       "<pre style=\"white-space:pre;overflow-x:auto;line-height:normal;font-family:Menlo,'DejaVu Sans Mono',consolas,'Courier New',monospace\"><span style=\"font-weight: bold\"> Non-trainable params: </span><span style=\"color: #00af00; text-decoration-color: #00af00\">0</span> (0.00 B)\n",
       "</pre>\n"
      ]
     },
     "metadata": {},
     "output_type": "display_data"
    },
    {
     "data": {
      "text/plain": [
       "\u001B[1m Optimizer params: \u001B[0m\u001B[38;5;34m5,646\u001B[0m (22.06 KB)\n"
      ],
      "text/html": [
       "<pre style=\"white-space:pre;overflow-x:auto;line-height:normal;font-family:Menlo,'DejaVu Sans Mono',consolas,'Courier New',monospace\"><span style=\"font-weight: bold\"> Optimizer params: </span><span style=\"color: #00af00; text-decoration-color: #00af00\">5,646</span> (22.06 KB)\n",
       "</pre>\n"
      ]
     },
     "metadata": {},
     "output_type": "display_data"
    }
   ],
   "execution_count": 9
  },
  {
   "metadata": {},
   "cell_type": "code",
   "source": [
    "# Explainability with Permutation Feature Importance\n",
    "\n",
    "from explainabilty import explain_model_with_pfi, keras_score\n",
    "\n",
    "# Initialize lists to store importances and standard deviations for each fold\n",
    "all_importances = []\n",
    "all_std = []\n",
    "\n",
    "for fold in range(1, folds + 1):\n",
    "    # Load the test data\n",
    "    test_data_path = f'{model_dir}/{sel_model}/test_data_fold_{fold}.joblib'\n",
    "    X_test, y_test_categorical = joblib.load(test_data_path)\n",
    "    \n",
    "    # Get feature names\n",
    "    feature_names = X_test.columns\n",
    "\n",
    "    # Explain the model with Permutation Feature Importance\n",
    "    importances, std, indices = explain_model_with_pfi(model, sel_model, X_test, y_test_categorical, fold, keras_score, feature_names, all_importances=all_importances, all_std=all_std)\n",
    "\n",
    "    # Append the importances and standard deviations to the lists\n",
    "    all_importances.append(importances)\n",
    "    all_std.append(std)\n",
    "    \n",
    "# After the cross-validation loop, generate the combined plot\n",
    "explain_model_with_pfi(None, sel_model, None, None, None, None, feature_names, all_importances=all_importances, all_std=all_std)"
   ],
   "id": "fb3bf9a57dbf0310",
   "outputs": [],
   "execution_count": null
  },
  {
   "metadata": {},
   "cell_type": "code",
   "source": "",
   "id": "c631f9e31c76b0f2",
   "outputs": [],
   "execution_count": null
  }
 ],
 "metadata": {
  "kernelspec": {
   "display_name": "Python 3",
   "language": "python",
   "name": "python3"
  },
  "language_info": {
   "codemirror_mode": {
    "name": "ipython",
    "version": 2
   },
   "file_extension": ".py",
   "mimetype": "text/x-python",
   "name": "python",
   "nbconvert_exporter": "python",
   "pygments_lexer": "ipython2",
   "version": "2.7.6"
  }
 },
 "nbformat": 4,
 "nbformat_minor": 5
}
