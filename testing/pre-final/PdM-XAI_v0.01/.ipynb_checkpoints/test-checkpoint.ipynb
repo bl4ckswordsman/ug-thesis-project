{
 "cells": [
  {
   "cell_type": "code",
   "id": "initial_id",
   "metadata": {
    "collapsed": true,
    "ExecuteTime": {
     "end_time": "2024-04-29T13:52:37.844018Z",
     "start_time": "2024-04-29T13:52:35.241115Z"
    }
   },
   "source": [
    "from tensorflow.keras.models import Sequential\n",
    "from tensorflow.keras.layers import Dense\n",
    "from tensorflow.keras.utils import to_categorical\n",
    "import pandas as pd\n",
    "from sklearn.model_selection import train_test_split\n",
    "from sklearn.preprocessing import LabelEncoder"
   ],
   "outputs": [
    {
     "name": "stderr",
     "output_type": "stream",
     "text": [
      "2024-04-29 15:52:35.588439: I external/local_tsl/tsl/cuda/cudart_stub.cc:32] Could not find cuda drivers on your machine, GPU will not be used.\n",
      "2024-04-29 15:52:35.592423: I external/local_tsl/tsl/cuda/cudart_stub.cc:32] Could not find cuda drivers on your machine, GPU will not be used.\n",
      "2024-04-29 15:52:35.652324: I tensorflow/core/platform/cpu_feature_guard.cc:210] This TensorFlow binary is optimized to use available CPU instructions in performance-critical operations.\n",
      "To enable the following instructions: AVX2 FMA, in other operations, rebuild TensorFlow with the appropriate compiler flags.\n",
      "2024-04-29 15:52:36.606633: W tensorflow/compiler/tf2tensorrt/utils/py_utils.cc:38] TF-TRT Warning: Could not find TensorRT\n"
     ]
    }
   ],
   "execution_count": 1
  },
  {
   "metadata": {
    "ExecuteTime": {
     "end_time": "2024-04-29T13:52:40.673851Z",
     "start_time": "2024-04-29T13:52:40.651104Z"
    }
   },
   "cell_type": "code",
   "source": "df = pd.read_csv('datasets/predictive_maintenance.csv')",
   "id": "51e737683379a003",
   "outputs": [],
   "execution_count": 2
  },
  {
   "metadata": {
    "ExecuteTime": {
     "end_time": "2024-04-29T13:52:42.978932Z",
     "start_time": "2024-04-29T13:52:42.964853Z"
    }
   },
   "cell_type": "code",
   "source": [
    "# Convert the 'Type' column into dummy/indicator variables\n",
    "df = pd.get_dummies(df, columns=['Type'])"
   ],
   "id": "50bbb5f4d595f7c2",
   "outputs": [],
   "execution_count": 3
  },
  {
   "metadata": {
    "ExecuteTime": {
     "end_time": "2024-04-29T13:52:45.199975Z",
     "start_time": "2024-04-29T13:52:45.182580Z"
    }
   },
   "cell_type": "code",
   "source": [
    "# Create a label encoder\n",
    "le = LabelEncoder()\n",
    "\n",
    "# Fit the encoder to the 'Failure Type' column\n",
    "le.fit(df['Failure Type'])\n",
    "\n",
    "# Transform the 'Failure Type' column into integer labels\n",
    "y = le.transform(df['Failure Type'].values)\n",
    "\n",
    "num_classes = len(le.classes_)\n",
    "\n",
    "# Define the feature matrix\n",
    "X = df.drop(['Failure Type', 'Product ID'], axis=1)\n",
    "\n",
    "# Split the data into training and testing sets\n",
    "X_train, X_test, y_train, y_test = train_test_split(X, y, test_size=0.2, random_state=42)"
   ],
   "id": "2587cef70967bfd5",
   "outputs": [],
   "execution_count": 4
  },
  {
   "metadata": {
    "ExecuteTime": {
     "end_time": "2024-04-29T13:52:46.162386Z",
     "start_time": "2024-04-29T13:52:46.152706Z"
    }
   },
   "cell_type": "code",
   "source": [
    "# Convert labels to categorical one-hot encoding\n",
    "y_train_categorical = to_categorical(y_train, num_classes=num_classes)\n",
    "y_test_categorical = to_categorical(y_test, num_classes=num_classes)"
   ],
   "id": "7435e2b4b84ac16",
   "outputs": [],
   "execution_count": 5
  },
  {
   "metadata": {
    "jupyter": {
     "is_executing": true
    },
    "ExecuteTime": {
     "start_time": "2024-04-29T13:52:47.461011Z"
    }
   },
   "cell_type": "code",
   "source": [
    "# Define the model\n",
    "model = Sequential()\n",
    "model.add(Dense(32, input_dim=X_train.shape[1], activation='relu'))  # Input layer\n",
    "model.add(Dense(64, activation='relu'))  # Hidden layer\n",
    "model.add(Dense(num_classes, activation='softmax'))  # Output layer\n",
    "\n",
    "# Compile the model\n",
    "model.compile(loss='categorical_crossentropy', optimizer='adam', metrics=['accuracy'])\n",
    "\n",
    "# Train the model\n",
    "model.fit(X_train, y_train_categorical, epochs=50, batch_size=10)"
   ],
   "id": "744a7088e7eb4479",
   "outputs": [
    {
     "name": "stdout",
     "output_type": "stream",
     "text": [
      "Epoch 1/50\n"
     ]
    },
    {
     "name": "stderr",
     "output_type": "stream",
     "text": [
      "/home/amarildo/Documents/DT099G/Coding/ug-thesis-project/pre-final/PdM-XAI_v0.1/venv/lib/python3.11/site-packages/keras/src/layers/core/dense.py:87: UserWarning: Do not pass an `input_shape`/`input_dim` argument to a layer. When using Sequential models, prefer using an `Input(shape)` object as the first layer in the model instead.\n",
      "  super().__init__(activity_regularizer=activity_regularizer, **kwargs)\n"
     ]
    },
    {
     "name": "stdout",
     "output_type": "stream",
     "text": [
      "\u001B[1m800/800\u001B[0m \u001B[32m━━━━━━━━━━━━━━━━━━━━\u001B[0m\u001B[37m\u001B[0m \u001B[1m2s\u001B[0m 1ms/step - accuracy: 0.8893 - loss: 66.3710\n",
      "Epoch 2/50\n",
      "\u001B[1m800/800\u001B[0m \u001B[32m━━━━━━━━━━━━━━━━━━━━\u001B[0m\u001B[37m\u001B[0m \u001B[1m1s\u001B[0m 1ms/step - accuracy: 0.9424 - loss: 8.1059\n",
      "Epoch 3/50\n",
      "\u001B[1m800/800\u001B[0m \u001B[32m━━━━━━━━━━━━━━━━━━━━\u001B[0m\u001B[37m\u001B[0m \u001B[1m1s\u001B[0m 1ms/step - accuracy: 0.9305 - loss: 5.8372\n",
      "Epoch 4/50\n",
      "\u001B[1m800/800\u001B[0m \u001B[32m━━━━━━━━━━━━━━━━━━━━\u001B[0m\u001B[37m\u001B[0m \u001B[1m1s\u001B[0m 1ms/step - accuracy: 0.9423 - loss: 5.0810\n",
      "Epoch 5/50\n",
      "\u001B[1m800/800\u001B[0m \u001B[32m━━━━━━━━━━━━━━━━━━━━\u001B[0m\u001B[37m\u001B[0m \u001B[1m1s\u001B[0m 1ms/step - accuracy: 0.9380 - loss: 3.6687\n",
      "Epoch 6/50\n",
      "\u001B[1m800/800\u001B[0m \u001B[32m━━━━━━━━━━━━━━━━━━━━\u001B[0m\u001B[37m\u001B[0m \u001B[1m1s\u001B[0m 1ms/step - accuracy: 0.9416 - loss: 2.8964\n",
      "Epoch 7/50\n",
      "\u001B[1m800/800\u001B[0m \u001B[32m━━━━━━━━━━━━━━━━━━━━\u001B[0m\u001B[37m\u001B[0m \u001B[1m1s\u001B[0m 1ms/step - accuracy: 0.9412 - loss: 2.7690\n",
      "Epoch 8/50\n",
      "\u001B[1m800/800\u001B[0m \u001B[32m━━━━━━━━━━━━━━━━━━━━\u001B[0m\u001B[37m\u001B[0m \u001B[1m1s\u001B[0m 1ms/step - accuracy: 0.9466 - loss: 2.2954\n",
      "Epoch 9/50\n",
      "\u001B[1m800/800\u001B[0m \u001B[32m━━━━━━━━━━━━━━━━━━━━\u001B[0m\u001B[37m\u001B[0m \u001B[1m1s\u001B[0m 1ms/step - accuracy: 0.9508 - loss: 1.4125\n",
      "Epoch 10/50\n",
      "\u001B[1m800/800\u001B[0m \u001B[32m━━━━━━━━━━━━━━━━━━━━\u001B[0m\u001B[37m\u001B[0m \u001B[1m1s\u001B[0m 1ms/step - accuracy: 0.9491 - loss: 1.2615\n",
      "Epoch 11/50\n",
      "\u001B[1m800/800\u001B[0m \u001B[32m━━━━━━━━━━━━━━━━━━━━\u001B[0m\u001B[37m\u001B[0m \u001B[1m1s\u001B[0m 1ms/step - accuracy: 0.9486 - loss: 1.0433\n",
      "Epoch 12/50\n",
      "\u001B[1m800/800\u001B[0m \u001B[32m━━━━━━━━━━━━━━━━━━━━\u001B[0m\u001B[37m\u001B[0m \u001B[1m1s\u001B[0m 1ms/step - accuracy: 0.9454 - loss: 0.8218\n",
      "Epoch 13/50\n",
      "\u001B[1m800/800\u001B[0m \u001B[32m━━━━━━━━━━━━━━━━━━━━\u001B[0m\u001B[37m\u001B[0m \u001B[1m1s\u001B[0m 1ms/step - accuracy: 0.9496 - loss: 0.8827\n",
      "Epoch 14/50\n",
      "\u001B[1m800/800\u001B[0m \u001B[32m━━━━━━━━━━━━━━━━━━━━\u001B[0m\u001B[37m\u001B[0m \u001B[1m1s\u001B[0m 1ms/step - accuracy: 0.9590 - loss: 0.3525\n",
      "Epoch 15/50\n",
      "\u001B[1m800/800\u001B[0m \u001B[32m━━━━━━━━━━━━━━━━━━━━\u001B[0m\u001B[37m\u001B[0m \u001B[1m1s\u001B[0m 1ms/step - accuracy: 0.9648 - loss: 0.3507\n",
      "Epoch 16/50\n",
      "\u001B[1m800/800\u001B[0m \u001B[32m━━━━━━━━━━━━━━━━━━━━\u001B[0m\u001B[37m\u001B[0m \u001B[1m1s\u001B[0m 942us/step - accuracy: 0.9583 - loss: 0.3986\n",
      "Epoch 17/50\n",
      "\u001B[1m800/800\u001B[0m \u001B[32m━━━━━━━━━━━━━━━━━━━━\u001B[0m\u001B[37m\u001B[0m \u001B[1m1s\u001B[0m 965us/step - accuracy: 0.9550 - loss: 0.3493\n",
      "Epoch 18/50\n",
      "\u001B[1m800/800\u001B[0m \u001B[32m━━━━━━━━━━━━━━━━━━━━\u001B[0m\u001B[37m\u001B[0m \u001B[1m1s\u001B[0m 990us/step - accuracy: 0.9630 - loss: 0.2309\n",
      "Epoch 19/50\n",
      "\u001B[1m800/800\u001B[0m \u001B[32m━━━━━━━━━━━━━━━━━━━━\u001B[0m\u001B[37m\u001B[0m \u001B[1m1s\u001B[0m 1ms/step - accuracy: 0.9614 - loss: 0.2214  \n",
      "Epoch 20/50\n",
      "\u001B[1m800/800\u001B[0m \u001B[32m━━━━━━━━━━━━━━━━━━━━\u001B[0m\u001B[37m\u001B[0m \u001B[1m1s\u001B[0m 1ms/step - accuracy: 0.9594 - loss: 0.2216\n",
      "Epoch 21/50\n",
      "\u001B[1m800/800\u001B[0m \u001B[32m━━━━━━━━━━━━━━━━━━━━\u001B[0m\u001B[37m\u001B[0m \u001B[1m1s\u001B[0m 1ms/step - accuracy: 0.9680 - loss: 0.1792\n",
      "Epoch 22/50\n",
      "\u001B[1m407/800\u001B[0m \u001B[32m━━━━━━━━━━\u001B[0m\u001B[37m━━━━━━━━━━\u001B[0m \u001B[1m0s\u001B[0m 1ms/step - accuracy: 0.9657 - loss: 0.1734"
     ]
    }
   ],
   "execution_count": null
  },
  {
   "metadata": {},
   "cell_type": "code",
   "outputs": [],
   "execution_count": null,
   "source": [
    "# Evaluate the model\n",
    "loss, accuracy = model.evaluate(X_test, y_test_categorical)\n",
    "print('ANN Accuracy:', accuracy)"
   ],
   "id": "5b608d49ef9cacfe"
  }
 ],
 "metadata": {
  "kernelspec": {
   "display_name": "Python 3",
   "language": "python",
   "name": "python3"
  },
  "language_info": {
   "codemirror_mode": {
    "name": "ipython",
    "version": 2
   },
   "file_extension": ".py",
   "mimetype": "text/x-python",
   "name": "python",
   "nbconvert_exporter": "python",
   "pygments_lexer": "ipython2",
   "version": "2.7.6"
  }
 },
 "nbformat": 4,
 "nbformat_minor": 5
}
